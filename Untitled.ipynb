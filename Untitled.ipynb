{
 "cells": [
  {
   "cell_type": "markdown",
   "id": "8083b93f",
   "metadata": {},
   "source": [
    "# **Yahoo Finance**"
   ]
  },
  {
   "cell_type": "markdown",
   "id": "ebd0bc2e",
   "metadata": {},
   "source": [
    "# **Imports:**"
   ]
  },
  {
   "cell_type": "code",
   "execution_count": 1,
   "id": "e5ba8676",
   "metadata": {},
   "outputs": [],
   "source": [
    "import pandas as pd\n",
    "import numpy as np\n",
    "import matplotlib.pyplot as plt\n",
    "import seaborn as sns\n",
    "import plotly.express as px\n",
    "import requests\n",
    "import json\n",
    "\n",
    "from wordcloud import WordCloud, STOPWORDS, ImageColorGenerator\n",
    "from sklearn.model_selection import train_test_split\n",
    "from sklearn.linear_model import PassiveAggressiveRegressor\n",
    "from bs4 import BeautifulSoup\n"
   ]
  },
  {
   "cell_type": "markdown",
   "id": "05f40854",
   "metadata": {},
   "source": [
    "# **1. Scraping Stock Prices from Yahoo Finance**"
   ]
  },
  {
   "cell_type": "code",
   "execution_count": 2,
   "id": "554f77e2",
   "metadata": {},
   "outputs": [],
   "source": [
    "# Create Function\n",
    "def getData (symbol):\n",
    "    headers = {'User-Agent': 'Mozilla/5.0 (Windows NT 10.0; Win64; x64) AppleWebKit/537.36 (KHTML, like Gecko) Chrome/111.0.0.0 Safari/537.36'}\n",
    "    url = f'https://finance.yahoo.com/quote/{symbol}'\n",
    "    r = requests.get(url, headers=headers)\n",
    "    soup = BeautifulSoup(r.text, 'html.parser')\n",
    "    stock ={\n",
    "    'symbol': symbol,    \n",
    "    'price' : soup.find('div',{'class':'D(ib) Va(m) Maw(65%) Ov(h)'}).find_all('fin-streamer')[0].text,\n",
    "    'Pchange' : soup.find('div',{'class':'D(ib) Va(m) Maw(65%) Ov(h)'}).find_all('fin-streamer')[1].text,\n",
    "    'RMchange' : soup.find('div',{'class':'D(ib) Va(m) Maw(65%) Ov(h)'}).find_all('span')[1].text,\n",
    "    }\n",
    "    return stock"
   ]
  },
  {
   "cell_type": "code",
   "execution_count": 3,
   "id": "3681c398",
   "metadata": {},
   "outputs": [],
   "source": [
    "mystocks = ['JNJ?p=JNJ', 'AI?p=AI', 'GOLD?p=GOLD', 'SECO?p=SECO', 'CAT?p=CAT']"
   ]
  },
  {
   "cell_type": "code",
   "execution_count": 4,
   "id": "7481bddc",
   "metadata": {},
   "outputs": [],
   "source": [
    "stockdata = []"
   ]
  },
  {
   "cell_type": "code",
   "execution_count": 5,
   "id": "9cc5a800",
   "metadata": {},
   "outputs": [
    {
     "name": "stdout",
     "output_type": "stream",
     "text": [
      "Getting:  JNJ?p=JNJ\n",
      "Getting:  AI?p=AI\n",
      "Getting:  GOLD?p=GOLD\n",
      "Getting:  SECO?p=SECO\n",
      "Getting:  CAT?p=CAT\n",
      "[{'symbol': 'JNJ?p=JNJ', 'price': '158.49', 'Pchange': '+1.64', 'RMchange': '(+1.05%)'}, {'symbol': 'AI?p=AI', 'price': '24.95', 'Pchange': '-8.92', 'RMchange': '(-26.34%)'}, {'symbol': 'GOLD?p=GOLD', 'price': '19.62', 'Pchange': '+0.83', 'RMchange': '(+4.42%)'}, {'symbol': 'SECO?p=SECO', 'price': '1.4600', 'Pchange': '+0.8592', 'RMchange': '(+143.01%)'}, {'symbol': 'CAT?p=CAT', 'price': '217.45', 'Pchange': '-12.42', 'RMchange': '(-5.40%)'}]\n",
      "Fin.\n"
     ]
    }
   ],
   "source": [
    "# Create a Loop \n",
    "for item in mystocks:\n",
    "    stockdata.append(getData(item))\n",
    "    print('Getting: ',item)\n",
    "with open('stockdata.json', 'w') as f:\n",
    "    json.dump(stockdata, f)\n",
    "    print(stockdata)\n",
    "print('Fin.')"
   ]
  },
  {
   "cell_type": "markdown",
   "id": "896db548",
   "metadata": {},
   "source": [
    "# **2. Instagram Reach Analysis Using Python**"
   ]
  },
  {
   "cell_type": "code",
   "execution_count": null,
   "id": "5455646c",
   "metadata": {},
   "outputs": [],
   "source": [
    "data = pd.read_csv('')"
   ]
  },
  {
   "cell_type": "code",
   "execution_count": null,
   "id": "388ba07c",
   "metadata": {},
   "outputs": [],
   "source": []
  },
  {
   "cell_type": "code",
   "execution_count": null,
   "id": "c6e3abd3",
   "metadata": {},
   "outputs": [],
   "source": []
  },
  {
   "cell_type": "code",
   "execution_count": null,
   "id": "18619fa6",
   "metadata": {},
   "outputs": [],
   "source": []
  },
  {
   "cell_type": "code",
   "execution_count": null,
   "id": "d9037d54",
   "metadata": {},
   "outputs": [],
   "source": []
  },
  {
   "cell_type": "code",
   "execution_count": null,
   "id": "dbbeeace",
   "metadata": {},
   "outputs": [],
   "source": []
  },
  {
   "cell_type": "code",
   "execution_count": null,
   "id": "9211bfa0",
   "metadata": {},
   "outputs": [],
   "source": []
  },
  {
   "cell_type": "code",
   "execution_count": null,
   "id": "462905b3",
   "metadata": {},
   "outputs": [],
   "source": []
  },
  {
   "cell_type": "code",
   "execution_count": null,
   "id": "bb1d8e2a",
   "metadata": {},
   "outputs": [],
   "source": []
  },
  {
   "cell_type": "code",
   "execution_count": null,
   "id": "fba3ef2f",
   "metadata": {},
   "outputs": [],
   "source": []
  },
  {
   "cell_type": "code",
   "execution_count": null,
   "id": "5cbb4073",
   "metadata": {},
   "outputs": [],
   "source": []
  },
  {
   "cell_type": "code",
   "execution_count": null,
   "id": "692d4275",
   "metadata": {},
   "outputs": [],
   "source": []
  },
  {
   "cell_type": "code",
   "execution_count": null,
   "id": "03329e76",
   "metadata": {},
   "outputs": [],
   "source": []
  },
  {
   "cell_type": "code",
   "execution_count": null,
   "id": "f8f0da18",
   "metadata": {},
   "outputs": [],
   "source": []
  }
 ],
 "metadata": {
  "kernelspec": {
   "display_name": "Python (dojo-env)",
   "language": "python",
   "name": "dojo-env"
  },
  "language_info": {
   "codemirror_mode": {
    "name": "ipython",
    "version": 3
   },
   "file_extension": ".py",
   "mimetype": "text/x-python",
   "name": "python",
   "nbconvert_exporter": "python",
   "pygments_lexer": "ipython3",
   "version": "3.9.15"
  },
  "toc": {
   "base_numbering": 1,
   "nav_menu": {},
   "number_sections": false,
   "sideBar": true,
   "skip_h1_title": false,
   "title_cell": "Table of Contents",
   "title_sidebar": "Contents",
   "toc_cell": false,
   "toc_position": {},
   "toc_section_display": true,
   "toc_window_display": true
  }
 },
 "nbformat": 4,
 "nbformat_minor": 5
}
